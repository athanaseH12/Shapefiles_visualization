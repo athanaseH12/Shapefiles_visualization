{
 "cells": [
  {
   "cell_type": "code",
   "execution_count": 13,
   "id": "22f74f9f",
   "metadata": {},
   "outputs": [
    {
     "name": "stdout",
     "output_type": "stream",
     "text": [
      "Current working directory: C:\\Users\\user\\Desktop\\ATHANASE_H_AIMS\\Experiential_learing\n"
     ]
    }
   ],
   "source": [
    "import os \n",
    "      \n",
    "# Get the current working \n",
    "\n",
    "cwd = os.getcwd() \n",
    "      \n",
    "# Print the current working \n",
    "\n",
    "print(\"Current working directory:\", cwd)"
   ]
  },
  {
   "cell_type": "code",
   "execution_count": 14,
   "id": "d0ec5e50",
   "metadata": {},
   "outputs": [],
   "source": [
    "# Import necessary modules\n",
    "\n",
    "import geopandas as gpd"
   ]
  },
  {
   "cell_type": "code",
   "execution_count": 15,
   "id": "8fadbb39",
   "metadata": {},
   "outputs": [],
   "source": [
    "file = \"./GHA.shp\"\n",
    "data = gpd.read_file(file)"
   ]
  },
  {
   "cell_type": "code",
   "execution_count": 16,
   "id": "f40a8c98",
   "metadata": {},
   "outputs": [
    {
     "data": {
      "text/plain": [
       "geopandas.geodataframe.GeoDataFrame"
      ]
     },
     "execution_count": 16,
     "metadata": {},
     "output_type": "execute_result"
    }
   ],
   "source": [
    "type(data)"
   ]
  },
  {
   "cell_type": "code",
   "execution_count": 34,
   "id": "a6a6d16a",
   "metadata": {},
   "outputs": [
    {
     "name": "stdout",
     "output_type": "stream",
     "text": [
      "    OBJECTID      COUNTRY  area  Shape_Leng  Shape_Area           land_under  \\\n",
      "0          1      Burundi   0.0    8.560371    2.193095                  NaN   \n",
      "1          2     Djibouti   0.0    7.874779    1.781569                  NaN   \n",
      "2          3      Eritrea   0.0   41.125347   10.077064                  NaN   \n",
      "3          4     Ethiopia   0.0   49.028874   92.986294                  NaN   \n",
      "4          5        Kenya   0.0   40.625985   47.319578                  NaN   \n",
      "5          6       Rwanda   0.0    8.078222    2.054446                  NaN   \n",
      "6          7      Somalia   0.0   53.331305   51.800944                  NaN   \n",
      "7          8     Tanzania   0.0   57.988209   77.546629                  NaN   \n",
      "8          9  South Sudan   0.0   46.515148   51.867644                  NaN   \n",
      "9         10        Sudan   0.0   73.448957  158.194024  930459.06\\r\\n930459   \n",
      "10        11       Uganda   0.0   25.099705   19.616329                  NaN   \n",
      "\n",
      "                                             geometry  \n",
      "0   POLYGON ((30.36003 -2.35343, 30.36209 -2.35250...  \n",
      "1   POLYGON ((42.66339 11.07150, 42.65628 11.07671...  \n",
      "2   MULTIPOLYGON (((43.14681 12.71384, 43.14167 12...  \n",
      "3   POLYGON ((41.77824 11.54207, 41.77785 11.51077...  \n",
      "4   MULTIPOLYGON (((39.40283 -4.65471, 39.40523 -4...  \n",
      "5   POLYGON ((30.36750 -2.34399, 30.36209 -2.35250...  \n",
      "6   MULTIPOLYGON (((41.92670 -1.16192, 41.92260 -1...  \n",
      "7   MULTIPOLYGON (((40.42789 -10.38034, 40.42349 -...  \n",
      "8   POLYGON ((31.79577 3.82198, 31.79585 3.82126, ...  \n",
      "9   POLYGON ((24.32633 16.51445, 23.99918 16.50046...  \n",
      "10  POLYGON ((32.75026 -0.99732, 32.40119 -0.99728...  \n"
     ]
    }
   ],
   "source": [
    "print(data)"
   ]
  },
  {
   "cell_type": "code",
   "execution_count": 33,
   "id": "3a1a7bfe",
   "metadata": {},
   "outputs": [
    {
     "data": {
      "image/png": "[encoded data removed]",
      "text/plain": [
       "<Figure size 432x288 with 1 Axes>"
      ]
     },
     "metadata": {
      "needs_background": "light"
     },
     "output_type": "display_data"
    }
   ],
   "source": [
    "%matplotlib inline\n",
    "import matplotlib.pyplot as plt\n",
    "data.plot()\n",
    "plt.title('Great horn of Africa');"
   ]
  },
  {
   "cell_type": "code",
   "execution_count": null,
   "id": "6d1a7cf9",
   "metadata": {},
   "outputs": [],
   "source": []
  }
 ],
 "metadata": {
  "kernelspec": {
   "display_name": "Python 3 (ipykernel)",
   "language": "python",
   "name": "python3"
  },
  "language_info": {
   "codemirror_mode": {
    "name": "ipython",
    "version": 3
   },
   "file_extension": ".py",
   "mimetype": "text/x-python",
   "name": "python",
   "nbconvert_exporter": "python",
   "pygments_lexer": "ipython3",
   "version": "3.9.12"
  }
 },
 "nbformat": 4,
 "nbformat_minor": 5
}
